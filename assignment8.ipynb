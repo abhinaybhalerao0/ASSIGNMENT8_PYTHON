{
 "cells": [
  {
   "cell_type": "code",
   "execution_count": 1,
   "id": "0210fc1f-9f18-409a-b0a1-aa7dec45300d",
   "metadata": {},
   "outputs": [
    {
     "name": "stdout",
     "output_type": "stream",
     "text": [
      "[10, 10, 10]\n",
      "[10, 10, 10]\n",
      "[10, 10, 10]\n"
     ]
    }
   ],
   "source": [
    "### 1. Write a Python Program to Add Two Matrices?\n",
    "def add_matrices(x, y):\n",
    "    result = []\n",
    "    for i in range (len(x)):\n",
    "        row = []\n",
    "        for j in range (len(x[0])):\n",
    "            row.append(x[i][j] + y[i][j])\n",
    "        result.append(row)\n",
    "    return result\n",
    "\n",
    "\n",
    "x= [[1, 2, 3], [4, 5, 6], [7, 8, 9]]\n",
    "y = [[9, 8, 7], [6, 5, 4], [3, 2, 1]]\n",
    "\n",
    "result = add_matrices(x, y)\n",
    "\n",
    "for row in result:\n",
    "    print(row)\n",
    "            "
   ]
  },
  {
   "cell_type": "code",
   "execution_count": 2,
   "id": "1240fc85-5a51-47c8-8ee7-9a01ee11860a",
   "metadata": {},
   "outputs": [
    {
     "name": "stdout",
     "output_type": "stream",
     "text": [
      "[27, 30, 33]\n",
      "[61, 68, 75]\n",
      "[95, 106, 117]\n"
     ]
    }
   ],
   "source": [
    "### 2. Write a Python Program to Multiply Two Matrices?\n",
    "def multiply_matrices(X, Y):\n",
    "    result = []\n",
    "    for i in range(len(X)):\n",
    "        row = []\n",
    "        for j in range(len(Y[0])):\n",
    "            sum = 0\n",
    "            for k in range(len(Y)):\n",
    "                sum += X[i][k] * Y[k][j]\n",
    "            row.append(sum)\n",
    "        result.append(row)\n",
    "    return result\n",
    "\n",
    "# Example matrices\n",
    "X = [[1, 2], [3, 4], [5, 6]]\n",
    "Y = [[7, 8, 9], [10, 11, 12]]\n",
    "\n",
    "result = multiply_matrices(X, Y)\n",
    "\n",
    "# Print the result\n",
    "for row in result:\n",
    "    print(row)"
   ]
  },
  {
   "cell_type": "code",
   "execution_count": 6,
   "id": "358d5e41-0fc5-44b5-9180-297df7f3d5df",
   "metadata": {},
   "outputs": [
    {
     "name": "stdout",
     "output_type": "stream",
     "text": [
      "original matrix\n",
      "[1, 2, 3]\n",
      "[4, 5, 6]\n",
      "[7, 8, 9]\n",
      "transpose matrix\n",
      "[1, 4, 7]\n",
      "[2, 5, 8]\n",
      "[3, 6, 9]\n"
     ]
    }
   ],
   "source": [
    "### 3. Write a Python Program to Transpose a Matrix?\n",
    "matrix = [\n",
    "    [1,2,3],\n",
    "    [4,5,6],\n",
    "    [7,8,9]\n",
    "]\n",
    "\n",
    "\n",
    "transpose = [[matrix[j][i] for j in range(len(matrix))] for i in range(len(matrix[0]))]\n",
    "\n",
    "print(\"original matrix\")\n",
    "for row in matrix:\n",
    "    print(row)\n",
    "      \n",
    "print(\"transpose matrix\")\n",
    "for row in transpose:\n",
    "    print(row)"
   ]
  },
  {
   "cell_type": "code",
   "execution_count": 8,
   "id": "0e53bf58-7674-457a-a054-995f50bbb8bb",
   "metadata": {},
   "outputs": [
    {
     "name": "stdout",
     "output_type": "stream",
     "text": [
      "['apple', 'banana', 'fruit', 'pinaple', 'watermelon']\n"
     ]
    }
   ],
   "source": [
    "### 4. Write a Python Program to Sort Words in Alphabetic Order?\n",
    "word = ['fruit', 'banana', 'watermelon', 'pinaple', 'apple']\n",
    "\n",
    "sorted_words = sorted(word)\n",
    "\n",
    "print(sorted_words)\n"
   ]
  },
  {
   "cell_type": "code",
   "execution_count": 12,
   "id": "ca6adf40-cf08-400d-8bd1-652d5b73710e",
   "metadata": {},
   "outputs": [
    {
     "name": "stdout",
     "output_type": "stream",
     "text": [
      "Hello world How r you\n"
     ]
    }
   ],
   "source": [
    "### 5. Write a Python Program to Remove Punctuation From a String?\n",
    "import string\n",
    "punctuation_with_string = \"Hello, world! How r you?\"\n",
    "    \n",
    "string_without_punctuation = punctuation_with_string.translate(str.maketrans(\"\", \"\", string.punctuation))\n",
    "print(string_without_punctuation)"
   ]
  },
  {
   "cell_type": "code",
   "execution_count": null,
   "id": "94cf5fa9-a795-41f4-a475-163e77147f77",
   "metadata": {},
   "outputs": [],
   "source": []
  }
 ],
 "metadata": {
  "kernelspec": {
   "display_name": "Python 3 (ipykernel)",
   "language": "python",
   "name": "python3"
  },
  "language_info": {
   "codemirror_mode": {
    "name": "ipython",
    "version": 3
   },
   "file_extension": ".py",
   "mimetype": "text/x-python",
   "name": "python",
   "nbconvert_exporter": "python",
   "pygments_lexer": "ipython3",
   "version": "3.10.6"
  }
 },
 "nbformat": 4,
 "nbformat_minor": 5
}
